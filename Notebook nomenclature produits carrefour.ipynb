{
 "cells": [
  {
   "cell_type": "markdown",
   "metadata": {},
   "source": [
    "# Code & premiers tests"
   ]
  },
  {
   "cell_type": "code",
   "execution_count": 1,
   "metadata": {},
   "outputs": [],
   "source": [
    "import pandas as pd\n",
    "import matplotlib.pyplot as plt\n",
    "import numpy as np\n",
    "from sklearn.model_selection import train_test_split\n",
    "import tensorflow as tf\n",
    "from tensorflow import keras\n",
    "from tensorflow.keras.preprocessing.text import Tokenizer\n",
    "from tensorflow.keras.preprocessing.sequence import pad_sequences\n",
    "from tensorflow.keras.layers import LSTM, Dense, Embedding, Dropout"
   ]
  },
  {
   "cell_type": "code",
   "execution_count": 2,
   "metadata": {},
   "outputs": [],
   "source": [
    "def get_data(f, repartition):\n",
    "    products = pd.read_csv(f, sep=';')\n",
    "    \n",
    "    print(\"nombre de lignes avant de supprimer celles sans rayon : \" + str(products.shape[0]))\n",
    "    # élimine les preoduits sans nom de rayon associé\n",
    "    products = products[~products['hypSectorDesc'].isnull()]\n",
    "    print(\"nombre de lignes après la supression de celles sans rayon : \" + str(products.shape[0]))\n",
    "    \n",
    "    x = products['product_name'] # récupérer le nom des produits\n",
    "    y = products['hypDepartmentDesc'] # récupérer le nom des rayons\n",
    "    \n",
    "    print(\"apercu des données : \" + x.head())\n",
    "    print(\"apercu des labels : \" + y.head())\n",
    "\n",
    "    print(\"nombre de données avant la supression des doublons : \" + str(len(x)))\n",
    "\n",
    "    x, y = delete_duplicate(x, y)\n",
    "\n",
    "    print(\"nombre de données après la supression de doublons : \" + str(len(x)))\n",
    "    \n",
    "    # Associe des numéros pour chaque rayon et transforme les numéros en un vecteur binaire\n",
    "    # ex : 28 rayons, le rayon ayant pour num 0 aura comme vecteur : (1, 0, 0, 0 , ..., 0) le vecteur ayant 28 places car\n",
    "    # il y a 28 valeurs différentes de y\n",
    "    y = np.array(auto_encoder_y(y))\n",
    "\n",
    "    # Sépare en données d'entrainement et de test\n",
    "    x_tr, x_te, y_tr, y_te = train_test_split(x, y, test_size=repartition)\n",
    "    \n",
    "    # Convertit les mots en numéro pour analyse par nlp\n",
    "    x_tr, x_te = auto_encoder_x(x_tr, x_te)\n",
    "    \n",
    "\n",
    "    return x_tr, x_te, y_tr, y_te"
   ]
  },
  {
   "cell_type": "code",
   "execution_count": 3,
   "metadata": {},
   "outputs": [],
   "source": [
    "def auto_encoder_x(training_data, testing_data):\n",
    "    \n",
    "    # 20 000 mots maximum à garder et remplace les mots inconnus avec le token out-of-value\n",
    "    tokenizer = Tokenizer(num_words=20000, oov_token=\"<OOV>\")\n",
    "\n",
    "    # Crée le dictionnaire\n",
    "    tokenizer.fit_on_texts(training_data)\n",
    "\n",
    "    # Les mots sont remplacées par leurs numéros associés\n",
    "    sequences_training = tokenizer.texts_to_sequences(training_data)\n",
    "    sequences_testing = tokenizer.texts_to_sequences(testing_data)\n",
    "\n",
    "    # Ajoute du padding pour que chaque ligne ait la même taille\n",
    "    padded_training = pad_sequences(sequences_training, padding='post', truncating='pre', maxlen = 20)\n",
    "    padded_testing = pad_sequences(sequences_testing, padding='post', truncating='pre', maxlen = 20)\n",
    "\n",
    "    return padded_training, padded_testing"
   ]
  },
  {
   "cell_type": "code",
   "execution_count": 4,
   "metadata": {},
   "outputs": [],
   "source": [
    "def number_to_binary(number, size):\n",
    "    return [0 if i != number else 1 for i in range(size)]\n",
    "\n",
    "def auto_encoder_y(label_name):\n",
    "    # Associe des numéros pour chaque rayon et transforme les numéros en un vecteur binaire\n",
    "    # ex : 28 rayons, le rayon ayant pour num 0 aura comme vecteur : (1, 0, 0, 0 , ..., 0) le vecteur ayant 28 places car\n",
    "    # il y a 28 valeurs différentes de y\n",
    "    possibilities = label_name.unique()\n",
    "    size = possibilities.shape[0]\n",
    "\n",
    "    result = []\n",
    "    words = {possibilities[i]: i for i in range(size)}\n",
    "\n",
    "    for l in label_name:\n",
    "        nb = words[l]\n",
    "        val = number_to_binary(nb, size)\n",
    "        result.append(val)\n",
    "\n",
    "    return result"
   ]
  },
  {
   "cell_type": "code",
   "execution_count": 5,
   "metadata": {},
   "outputs": [],
   "source": [
    "def delete_duplicate(x, y):\n",
    "    df = pd.concat([x, y], axis=1)\n",
    "\n",
    "    df.drop_duplicates(subset=\"product_name\", keep=\"first\", inplace=True)\n",
    "\n",
    "    return df[\"product_name\"], df[\"hypDepartmentDesc\"]"
   ]
  },
  {
   "cell_type": "code",
   "execution_count": 6,
   "metadata": {},
   "outputs": [],
   "source": [
    "model = keras.Sequential([\n",
    "        Embedding(15000, 128, input_length=20),\n",
    "        LSTM(64, return_sequences=True),\n",
    "        LSTM(32, return_sequences=True),\n",
    "        LSTM(16),\n",
    "        Dense(64, kernel_regularizer=keras.regularizers.l2(0.01)),\n",
    "        Dense(32, kernel_regularizer=keras.regularizers.l2(0.01)),\n",
    "        Dense(28, activation=keras.activations.softmax)\n",
    "    ])"
   ]
  },
  {
   "cell_type": "code",
   "execution_count": 7,
   "metadata": {},
   "outputs": [],
   "source": [
    "# Structure du réseau de neurones\n",
    "def neural_network(batch_size):\n",
    "    model.summary()\n",
    "\n",
    "    model.compile(optimizer=keras.optimizers.Adam(), loss=keras.losses.categorical_crossentropy,\n",
    "                  metrics=keras.metrics.categorical_accuracy)\n",
    "\n",
    "    logs = model.fit(x_train, y_train, batch_size=batch_size, epochs=150, validation_data=(x_test, y_test)\n",
    "                     , callbacks=keras.callbacks.EarlyStopping(monitor='val_loss', patience=25), verbose=2)\n",
    "\n",
    "    return logs"
   ]
  },
  {
   "cell_type": "code",
   "execution_count": 8,
   "metadata": {},
   "outputs": [],
   "source": [
    "# Afficher les courbes de loss et accuracy à l'aide de matplotlib\n",
    "def plot_log(all_logs):\n",
    "    for logs in all_logs:\n",
    "        losses = logs.history['loss']\n",
    "        name = logs.history['name'] + \" - training\"\n",
    "        plt.plot(list(range(len(losses))), losses, label=name)\n",
    "        losses = logs.history['val_loss']\n",
    "        name = logs.history['name'] + \" - testing\"\n",
    "        plt.plot(list(range(len(losses))), losses, label=name)\n",
    "    plt.xlabel(\"number of epochs\")\n",
    "    plt.ylabel(\"error\")\n",
    "    plt.title(\"error on training/testing\")\n",
    "    plt.legend()\n",
    "    plt.show()\n",
    "\n",
    "    for logs in all_logs:\n",
    "        metric = logs.history['categorical_accuracy']\n",
    "        name = logs.history['name'] + \" - training\"\n",
    "        plt.plot(list(range(len(metric))), metric, label=name)\n",
    "        metric = logs.history['val_categorical_accuracy']\n",
    "        name = logs.history['name'] + \" - testing\"\n",
    "        plt.plot(list(range(len(metric))), metric, label=name)\n",
    "    plt.xlabel(\"number of epochs\")\n",
    "    plt.ylabel(\"accuracy\")\n",
    "    plt.legend()\n",
    "    plt.title(\"prediction accuracy on training/testing\")\n",
    "    plt.show()"
   ]
  },
  {
   "cell_type": "code",
   "execution_count": 9,
   "metadata": {
    "scrolled": false
   },
   "outputs": [
    {
     "name": "stdout",
     "output_type": "stream",
     "text": [
      "nombre de lignes avant de supprimer celles sans rayon : 36160\n",
      "nombre de lignes après la supression de celles sans rayon : 36108\n",
      "0    apercu des données : Kinder Calendrier de l'Av...\n",
      "1    apercu des données : Lindt Calendrier de l'Ave...\n",
      "2    apercu des données : Célébrations Calendrier d...\n",
      "3    apercu des données : Kinder Calendrier De L'Av...\n",
      "4    apercu des données : M&M'S Calendrier de l'Ave...\n",
      "Name: product_name, dtype: object\n",
      "0    apercu des labels : EPICERIE\n",
      "1    apercu des labels : EPICERIE\n",
      "2    apercu des labels : EPICERIE\n",
      "3    apercu des labels : EPICERIE\n",
      "4    apercu des labels : EPICERIE\n",
      "Name: hypDepartmentDesc, dtype: object\n",
      "nombre de données avant la supression des doublons : 36108\n",
      "nombre de données après la supression de doublons : 21450\n",
      "Model: \"sequential\"\n",
      "_________________________________________________________________\n",
      "Layer (type)                 Output Shape              Param #   \n",
      "=================================================================\n",
      "embedding (Embedding)        (None, 20, 128)           1920000   \n",
      "_________________________________________________________________\n",
      "lstm (LSTM)                  (None, 20, 64)            49408     \n",
      "_________________________________________________________________\n",
      "lstm_1 (LSTM)                (None, 20, 32)            12416     \n",
      "_________________________________________________________________\n",
      "lstm_2 (LSTM)                (None, 16)                3136      \n",
      "_________________________________________________________________\n",
      "dense (Dense)                (None, 64)                1088      \n",
      "_________________________________________________________________\n",
      "dense_1 (Dense)              (None, 32)                2080      \n",
      "_________________________________________________________________\n",
      "dense_2 (Dense)              (None, 28)                924       \n",
      "=================================================================\n",
      "Total params: 1,989,052\n",
      "Trainable params: 1,989,052\n",
      "Non-trainable params: 0\n",
      "_________________________________________________________________\n",
      "Epoch 1/150\n",
      "135/135 - 6s - loss: 2.5968 - categorical_accuracy: 0.3460 - val_loss: 1.9013 - val_categorical_accuracy: 0.4853\n",
      "Epoch 2/150\n",
      "135/135 - 5s - loss: 1.4891 - categorical_accuracy: 0.6091 - val_loss: 1.2366 - val_categorical_accuracy: 0.6490\n",
      "Epoch 3/150\n",
      "135/135 - 5s - loss: 1.0224 - categorical_accuracy: 0.7195 - val_loss: 1.0137 - val_categorical_accuracy: 0.7732\n",
      "Epoch 4/150\n",
      "135/135 - 4s - loss: 0.7138 - categorical_accuracy: 0.8525 - val_loss: 0.8449 - val_categorical_accuracy: 0.8217\n",
      "Epoch 5/150\n",
      "135/135 - 5s - loss: 0.5584 - categorical_accuracy: 0.9054 - val_loss: 0.7738 - val_categorical_accuracy: 0.8438\n",
      "Epoch 6/150\n",
      "135/135 - 5s - loss: 0.4730 - categorical_accuracy: 0.9239 - val_loss: 0.7653 - val_categorical_accuracy: 0.8503\n",
      "Epoch 7/150\n",
      "135/135 - 4s - loss: 0.4275 - categorical_accuracy: 0.9304 - val_loss: 0.7618 - val_categorical_accuracy: 0.8436\n",
      "Epoch 8/150\n",
      "135/135 - 5s - loss: 0.3906 - categorical_accuracy: 0.9368 - val_loss: 0.7435 - val_categorical_accuracy: 0.8559\n",
      "Epoch 9/150\n",
      "135/135 - 5s - loss: 0.3506 - categorical_accuracy: 0.9466 - val_loss: 0.7477 - val_categorical_accuracy: 0.8524\n",
      "Epoch 10/150\n",
      "135/135 - 5s - loss: 0.3253 - categorical_accuracy: 0.9523 - val_loss: 0.7780 - val_categorical_accuracy: 0.8513\n",
      "Epoch 11/150\n",
      "135/135 - 5s - loss: 0.3048 - categorical_accuracy: 0.9568 - val_loss: 0.7379 - val_categorical_accuracy: 0.8648\n",
      "Epoch 12/150\n",
      "135/135 - 5s - loss: 0.2777 - categorical_accuracy: 0.9650 - val_loss: 0.7589 - val_categorical_accuracy: 0.8604\n",
      "Epoch 13/150\n",
      "135/135 - 5s - loss: 0.2608 - categorical_accuracy: 0.9681 - val_loss: 0.7124 - val_categorical_accuracy: 0.8725\n",
      "Epoch 14/150\n",
      "135/135 - 4s - loss: 0.2498 - categorical_accuracy: 0.9713 - val_loss: 0.7866 - val_categorical_accuracy: 0.8555\n",
      "Epoch 15/150\n",
      "135/135 - 5s - loss: 0.2401 - categorical_accuracy: 0.9726 - val_loss: 0.7445 - val_categorical_accuracy: 0.8653\n",
      "Epoch 16/150\n",
      "135/135 - 4s - loss: 0.2410 - categorical_accuracy: 0.9710 - val_loss: 0.7381 - val_categorical_accuracy: 0.8711\n",
      "Epoch 17/150\n",
      "135/135 - 4s - loss: 0.2198 - categorical_accuracy: 0.9742 - val_loss: 0.8072 - val_categorical_accuracy: 0.8650\n",
      "Epoch 18/150\n",
      "135/135 - 4s - loss: 0.2068 - categorical_accuracy: 0.9774 - val_loss: 0.7617 - val_categorical_accuracy: 0.8699\n",
      "Epoch 19/150\n",
      "135/135 - 4s - loss: 0.2012 - categorical_accuracy: 0.9770 - val_loss: 0.7457 - val_categorical_accuracy: 0.8692\n",
      "Epoch 20/150\n",
      "135/135 - 4s - loss: 0.1978 - categorical_accuracy: 0.9781 - val_loss: 0.7628 - val_categorical_accuracy: 0.8723\n",
      "Epoch 21/150\n",
      "135/135 - 4s - loss: 0.1854 - categorical_accuracy: 0.9804 - val_loss: 0.7570 - val_categorical_accuracy: 0.8732\n",
      "Epoch 22/150\n",
      "135/135 - 4s - loss: 0.1793 - categorical_accuracy: 0.9818 - val_loss: 0.7632 - val_categorical_accuracy: 0.8669\n",
      "Epoch 23/150\n",
      "135/135 - 4s - loss: 0.1737 - categorical_accuracy: 0.9820 - val_loss: 0.7944 - val_categorical_accuracy: 0.8741\n",
      "Epoch 24/150\n",
      "135/135 - 4s - loss: 0.1708 - categorical_accuracy: 0.9822 - val_loss: 0.7660 - val_categorical_accuracy: 0.8760\n",
      "Epoch 25/150\n",
      "135/135 - 5s - loss: 0.1683 - categorical_accuracy: 0.9822 - val_loss: 0.7993 - val_categorical_accuracy: 0.8765\n",
      "Epoch 26/150\n",
      "135/135 - 4s - loss: 0.1638 - categorical_accuracy: 0.9834 - val_loss: 0.7737 - val_categorical_accuracy: 0.8767\n",
      "Epoch 27/150\n",
      "135/135 - 4s - loss: 0.1581 - categorical_accuracy: 0.9844 - val_loss: 0.8031 - val_categorical_accuracy: 0.8755\n",
      "Epoch 28/150\n",
      "135/135 - 4s - loss: 0.1537 - categorical_accuracy: 0.9851 - val_loss: 0.8187 - val_categorical_accuracy: 0.8704\n",
      "Epoch 29/150\n",
      "135/135 - 4s - loss: 0.1460 - categorical_accuracy: 0.9874 - val_loss: 0.8441 - val_categorical_accuracy: 0.8678\n",
      "Epoch 30/150\n",
      "135/135 - 4s - loss: 0.1478 - categorical_accuracy: 0.9861 - val_loss: 0.8506 - val_categorical_accuracy: 0.8709\n",
      "Epoch 31/150\n",
      "135/135 - 4s - loss: 0.1604 - categorical_accuracy: 0.9815 - val_loss: 0.7703 - val_categorical_accuracy: 0.8748\n",
      "Epoch 32/150\n",
      "135/135 - 4s - loss: 0.1470 - categorical_accuracy: 0.9855 - val_loss: 0.8043 - val_categorical_accuracy: 0.8758\n",
      "Epoch 33/150\n",
      "135/135 - 4s - loss: 0.1427 - categorical_accuracy: 0.9868 - val_loss: 0.8389 - val_categorical_accuracy: 0.8702\n",
      "Epoch 34/150\n",
      "135/135 - 5s - loss: 0.1352 - categorical_accuracy: 0.9876 - val_loss: 0.8325 - val_categorical_accuracy: 0.8748\n",
      "Epoch 35/150\n",
      "135/135 - 5s - loss: 0.1330 - categorical_accuracy: 0.9881 - val_loss: 0.8145 - val_categorical_accuracy: 0.8748\n",
      "Epoch 36/150\n",
      "135/135 - 4s - loss: 0.1321 - categorical_accuracy: 0.9878 - val_loss: 0.8395 - val_categorical_accuracy: 0.8725\n",
      "Epoch 37/150\n",
      "135/135 - 4s - loss: 0.1301 - categorical_accuracy: 0.9878 - val_loss: 0.8157 - val_categorical_accuracy: 0.8797\n",
      "Epoch 38/150\n",
      "135/135 - 4s - loss: 0.1229 - categorical_accuracy: 0.9899 - val_loss: 0.8305 - val_categorical_accuracy: 0.8867\n"
     ]
    },
    {
     "data": {
      "image/png": "[encoded data removed]",
      "text/plain": [
       "<Figure size 432x288 with 1 Axes>"
      ]
     },
     "metadata": {
      "needs_background": "light"
     },
     "output_type": "display_data"
    },
    {
     "data": {
      "image/png": "[encoded data removed]",
      "text/plain": [
       "<Figure size 432x288 with 1 Axes>"
      ]
     },
     "metadata": {
      "needs_background": "light"
     },
     "output_type": "display_data"
    }
   ],
   "source": [
    "if __name__ == \"__main__\":\n",
    "    name_file = \"produits_carrefour_nomenclatures.csv\"\n",
    "    batch_size = 128\n",
    "\n",
    "    all_logs = []\n",
    "\n",
    "    x_train, x_test, y_train, y_test = get_data(name_file, 0.2)\n",
    "    \n",
    "\n",
    "    logs = neural_network(batch_size)\n",
    "\n",
    "    logs.history['name'] = \"LSTM - \" + str(batch_size)\n",
    "\n",
    "    all_logs.append(logs)\n",
    "\n",
    "    plot_log(all_logs)"
   ]
  },
  {
   "cell_type": "markdown",
   "metadata": {},
   "source": [
    "On voit un clair overfitting, à la place d'utiliser l2 comme régularisation essayons le dropout : "
   ]
  },
  {
   "cell_type": "code",
   "execution_count": 10,
   "metadata": {},
   "outputs": [
    {
     "name": "stdout",
     "output_type": "stream",
     "text": [
      "Model: \"sequential_1\"\n",
      "_________________________________________________________________\n",
      "Layer (type)                 Output Shape              Param #   \n",
      "=================================================================\n",
      "embedding_1 (Embedding)      (None, 20, 128)           1920000   \n",
      "_________________________________________________________________\n",
      "lstm_3 (LSTM)                (None, 20, 48)            33984     \n",
      "_________________________________________________________________\n",
      "lstm_4 (LSTM)                (None, 20, 48)            18624     \n",
      "_________________________________________________________________\n",
      "lstm_5 (LSTM)                (None, 48)                18624     \n",
      "_________________________________________________________________\n",
      "dense_3 (Dense)              (None, 64)                3136      \n",
      "_________________________________________________________________\n",
      "dropout (Dropout)            (None, 64)                0         \n",
      "_________________________________________________________________\n",
      "dense_4 (Dense)              (None, 32)                2080      \n",
      "_________________________________________________________________\n",
      "dropout_1 (Dropout)          (None, 32)                0         \n",
      "_________________________________________________________________\n",
      "dense_5 (Dense)              (None, 28)                924       \n",
      "=================================================================\n",
      "Total params: 1,997,372\n",
      "Trainable params: 1,997,372\n",
      "Non-trainable params: 0\n",
      "_________________________________________________________________\n",
      "Epoch 1/150\n",
      "135/135 - 5s - loss: 2.0383 - categorical_accuracy: 0.3839 - val_loss: 1.1255 - val_categorical_accuracy: 0.6291\n",
      "Epoch 2/150\n",
      "135/135 - 4s - loss: 0.9260 - categorical_accuracy: 0.7086 - val_loss: 0.7330 - val_categorical_accuracy: 0.7851\n",
      "Epoch 3/150\n",
      "135/135 - 4s - loss: 0.5666 - categorical_accuracy: 0.8402 - val_loss: 0.6106 - val_categorical_accuracy: 0.8464\n",
      "Epoch 4/150\n",
      "135/135 - 4s - loss: 0.3887 - categorical_accuracy: 0.8957 - val_loss: 0.5767 - val_categorical_accuracy: 0.8464\n",
      "Epoch 5/150\n",
      "135/135 - 4s - loss: 0.2821 - categorical_accuracy: 0.9247 - val_loss: 0.5584 - val_categorical_accuracy: 0.8681\n",
      "Epoch 6/150\n",
      "135/135 - 5s - loss: 0.2336 - categorical_accuracy: 0.9388 - val_loss: 0.5718 - val_categorical_accuracy: 0.8541\n",
      "Epoch 7/150\n",
      "135/135 - 5s - loss: 0.1986 - categorical_accuracy: 0.9453 - val_loss: 0.6109 - val_categorical_accuracy: 0.8683\n",
      "Epoch 8/150\n",
      "135/135 - 4s - loss: 0.1822 - categorical_accuracy: 0.9518 - val_loss: 0.6639 - val_categorical_accuracy: 0.8664\n",
      "Epoch 9/150\n",
      "135/135 - 4s - loss: 0.1609 - categorical_accuracy: 0.9596 - val_loss: 0.5876 - val_categorical_accuracy: 0.8753\n",
      "Epoch 10/150\n",
      "135/135 - 4s - loss: 0.1471 - categorical_accuracy: 0.9643 - val_loss: 0.6619 - val_categorical_accuracy: 0.8786\n",
      "Epoch 11/150\n",
      "135/135 - 5s - loss: 0.1364 - categorical_accuracy: 0.9666 - val_loss: 0.6370 - val_categorical_accuracy: 0.8793\n",
      "Epoch 12/150\n",
      "135/135 - 4s - loss: 0.1593 - categorical_accuracy: 0.9618 - val_loss: 0.6874 - val_categorical_accuracy: 0.8809\n",
      "Epoch 13/150\n",
      "135/135 - 4s - loss: 0.1039 - categorical_accuracy: 0.9755 - val_loss: 0.6502 - val_categorical_accuracy: 0.8814\n",
      "Epoch 14/150\n",
      "135/135 - 4s - loss: 0.0819 - categorical_accuracy: 0.9799 - val_loss: 0.6664 - val_categorical_accuracy: 0.8872\n",
      "Epoch 15/150\n",
      "135/135 - 5s - loss: 0.0747 - categorical_accuracy: 0.9823 - val_loss: 0.7818 - val_categorical_accuracy: 0.8890\n",
      "Epoch 16/150\n",
      "135/135 - 5s - loss: 0.0681 - categorical_accuracy: 0.9834 - val_loss: 0.7530 - val_categorical_accuracy: 0.8879\n",
      "Epoch 17/150\n",
      "135/135 - 5s - loss: 0.0722 - categorical_accuracy: 0.9834 - val_loss: 0.7523 - val_categorical_accuracy: 0.8914\n",
      "Epoch 18/150\n",
      "135/135 - 5s - loss: 0.0896 - categorical_accuracy: 0.9776 - val_loss: 0.7414 - val_categorical_accuracy: 0.8869\n",
      "Epoch 19/150\n",
      "135/135 - 5s - loss: 0.0622 - categorical_accuracy: 0.9846 - val_loss: 0.8446 - val_categorical_accuracy: 0.8886\n",
      "Epoch 20/150\n",
      "135/135 - 4s - loss: 0.0534 - categorical_accuracy: 0.9872 - val_loss: 0.8489 - val_categorical_accuracy: 0.8881\n",
      "Epoch 21/150\n",
      "135/135 - 4s - loss: 0.0534 - categorical_accuracy: 0.9868 - val_loss: 0.8708 - val_categorical_accuracy: 0.8788\n",
      "Epoch 22/150\n",
      "135/135 - 4s - loss: 0.0559 - categorical_accuracy: 0.9874 - val_loss: 0.8655 - val_categorical_accuracy: 0.8779\n",
      "Epoch 23/150\n",
      "135/135 - 4s - loss: 0.0535 - categorical_accuracy: 0.9874 - val_loss: 0.8866 - val_categorical_accuracy: 0.8860\n",
      "Epoch 24/150\n",
      "135/135 - 4s - loss: 0.0449 - categorical_accuracy: 0.9894 - val_loss: 0.8690 - val_categorical_accuracy: 0.8869\n",
      "Epoch 25/150\n",
      "135/135 - 4s - loss: 0.0446 - categorical_accuracy: 0.9891 - val_loss: 0.9360 - val_categorical_accuracy: 0.8814\n",
      "Epoch 26/150\n",
      "135/135 - 5s - loss: 0.0543 - categorical_accuracy: 0.9875 - val_loss: 0.9196 - val_categorical_accuracy: 0.8869\n",
      "Epoch 27/150\n",
      "135/135 - 4s - loss: 0.0439 - categorical_accuracy: 0.9891 - val_loss: 0.8834 - val_categorical_accuracy: 0.8844\n",
      "Epoch 28/150\n",
      "135/135 - 4s - loss: 0.0370 - categorical_accuracy: 0.9916 - val_loss: 0.8887 - val_categorical_accuracy: 0.8890\n",
      "Epoch 29/150\n",
      "135/135 - 4s - loss: 0.0340 - categorical_accuracy: 0.9921 - val_loss: 1.0814 - val_categorical_accuracy: 0.8814\n",
      "Epoch 30/150\n",
      "135/135 - 4s - loss: 0.0484 - categorical_accuracy: 0.9891 - val_loss: 0.9811 - val_categorical_accuracy: 0.8807\n"
     ]
    },
    {
     "data": {
      "image/png": "[encoded data removed]",
      "text/plain": [
       "<Figure size 432x288 with 1 Axes>"
      ]
     },
     "metadata": {
      "needs_background": "light"
     },
     "output_type": "display_data"
    },
    {
     "data": {
      "image/png": "[encoded data removed]",
      "text/plain": [
       "<Figure size 432x288 with 1 Axes>"
      ]
     },
     "metadata": {
      "needs_background": "light"
     },
     "output_type": "display_data"
    }
   ],
   "source": [
    "model = keras.Sequential([\n",
    "        Embedding(15000, 128, input_length=20),\n",
    "        LSTM(48, return_sequences=True),\n",
    "        LSTM(48, return_sequences=True),\n",
    "        LSTM(48),\n",
    "        Dense(64),\n",
    "        Dropout(0.40),\n",
    "        Dense(32),\n",
    "        Dropout(0.40),\n",
    "        Dense(28, activation=keras.activations.softmax)\n",
    "    ])\n",
    "\n",
    "all_logs = []\n",
    "\n",
    "logs = neural_network(batch_size)\n",
    "\n",
    "logs.history['name'] = \"LSTM - \" + str(batch_size)\n",
    "\n",
    "all_logs.append(logs)\n",
    "\n",
    "plot_log(all_logs)"
   ]
  },
  {
   "cell_type": "markdown",
   "metadata": {},
   "source": [
    "-> pas tellement mieux\n",
    "\n",
    "cumuler les deux ?"
   ]
  },
  {
   "cell_type": "code",
   "execution_count": 11,
   "metadata": {},
   "outputs": [
    {
     "name": "stdout",
     "output_type": "stream",
     "text": [
      "Model: \"sequential_2\"\n",
      "_________________________________________________________________\n",
      "Layer (type)                 Output Shape              Param #   \n",
      "=================================================================\n",
      "embedding_2 (Embedding)      (None, 20, 128)           1920000   \n",
      "_________________________________________________________________\n",
      "lstm_6 (LSTM)                (None, 20, 48)            33984     \n",
      "_________________________________________________________________\n",
      "lstm_7 (LSTM)                (None, 20, 48)            18624     \n",
      "_________________________________________________________________\n",
      "lstm_8 (LSTM)                (None, 48)                18624     \n",
      "_________________________________________________________________\n",
      "dense_6 (Dense)              (None, 64)                3136      \n",
      "_________________________________________________________________\n",
      "dropout_2 (Dropout)          (None, 64)                0         \n",
      "_________________________________________________________________\n",
      "dense_7 (Dense)              (None, 32)                2080      \n",
      "_________________________________________________________________\n",
      "dropout_3 (Dropout)          (None, 32)                0         \n",
      "_________________________________________________________________\n",
      "dense_8 (Dense)              (None, 28)                924       \n",
      "=================================================================\n",
      "Total params: 1,997,372\n",
      "Trainable params: 1,997,372\n",
      "Non-trainable params: 0\n",
      "_________________________________________________________________\n",
      "Epoch 1/150\n",
      "135/135 - 7s - loss: 2.7562 - categorical_accuracy: 0.3386 - val_loss: 1.8016 - val_categorical_accuracy: 0.5669\n",
      "Epoch 2/150\n",
      "135/135 - 5s - loss: 1.5015 - categorical_accuracy: 0.6394 - val_loss: 1.1735 - val_categorical_accuracy: 0.7347\n",
      "Epoch 3/150\n",
      "135/135 - 4s - loss: 0.9816 - categorical_accuracy: 0.7705 - val_loss: 0.8656 - val_categorical_accuracy: 0.7930\n",
      "Epoch 4/150\n",
      "135/135 - 4s - loss: 0.7060 - categorical_accuracy: 0.8396 - val_loss: 0.7887 - val_categorical_accuracy: 0.8007\n",
      "Epoch 5/150\n",
      "135/135 - 5s - loss: 0.5686 - categorical_accuracy: 0.8762 - val_loss: 0.7229 - val_categorical_accuracy: 0.8436\n",
      "Epoch 6/150\n",
      "135/135 - 5s - loss: 0.4760 - categorical_accuracy: 0.9015 - val_loss: 0.7302 - val_categorical_accuracy: 0.8473\n",
      "Epoch 7/150\n",
      "135/135 - 5s - loss: 0.4128 - categorical_accuracy: 0.9206 - val_loss: 0.7381 - val_categorical_accuracy: 0.8459\n",
      "Epoch 8/150\n",
      "135/135 - 5s - loss: 0.3841 - categorical_accuracy: 0.9292 - val_loss: 0.7086 - val_categorical_accuracy: 0.8608\n",
      "Epoch 9/150\n",
      "135/135 - 5s - loss: 0.3471 - categorical_accuracy: 0.9419 - val_loss: 0.7301 - val_categorical_accuracy: 0.8615\n",
      "Epoch 10/150\n",
      "135/135 - 5s - loss: 0.3365 - categorical_accuracy: 0.9444 - val_loss: 0.7695 - val_categorical_accuracy: 0.8559\n",
      "Epoch 11/150\n",
      "135/135 - 4s - loss: 0.2957 - categorical_accuracy: 0.9530 - val_loss: 0.7610 - val_categorical_accuracy: 0.8669\n",
      "Epoch 12/150\n",
      "135/135 - 5s - loss: 0.2844 - categorical_accuracy: 0.9564 - val_loss: 0.7416 - val_categorical_accuracy: 0.8552\n",
      "Epoch 13/150\n",
      "135/135 - 5s - loss: 0.2635 - categorical_accuracy: 0.9614 - val_loss: 0.7523 - val_categorical_accuracy: 0.8692\n",
      "Epoch 14/150\n",
      "135/135 - 5s - loss: 0.2403 - categorical_accuracy: 0.9672 - val_loss: 0.7312 - val_categorical_accuracy: 0.8727\n",
      "Epoch 15/150\n",
      "135/135 - 5s - loss: 0.2250 - categorical_accuracy: 0.9712 - val_loss: 0.7701 - val_categorical_accuracy: 0.8711\n",
      "Epoch 16/150\n",
      "135/135 - 5s - loss: 0.2153 - categorical_accuracy: 0.9743 - val_loss: 0.8032 - val_categorical_accuracy: 0.8615\n",
      "Epoch 17/150\n",
      "135/135 - 5s - loss: 0.2094 - categorical_accuracy: 0.9742 - val_loss: 0.7576 - val_categorical_accuracy: 0.8727\n",
      "Epoch 18/150\n",
      "135/135 - 5s - loss: 0.2097 - categorical_accuracy: 0.9741 - val_loss: 0.7761 - val_categorical_accuracy: 0.8746\n",
      "Epoch 19/150\n",
      "135/135 - 5s - loss: 0.1965 - categorical_accuracy: 0.9781 - val_loss: 0.7815 - val_categorical_accuracy: 0.8739\n",
      "Epoch 20/150\n",
      "135/135 - 5s - loss: 0.1903 - categorical_accuracy: 0.9793 - val_loss: 0.8095 - val_categorical_accuracy: 0.8697\n",
      "Epoch 21/150\n",
      "135/135 - 4s - loss: 0.1784 - categorical_accuracy: 0.9823 - val_loss: 0.7873 - val_categorical_accuracy: 0.8776\n",
      "Epoch 22/150\n",
      "135/135 - 4s - loss: 0.1861 - categorical_accuracy: 0.9790 - val_loss: 0.7968 - val_categorical_accuracy: 0.8744\n",
      "Epoch 23/150\n",
      "135/135 - 5s - loss: 0.1750 - categorical_accuracy: 0.9809 - val_loss: 0.8473 - val_categorical_accuracy: 0.8667\n",
      "Epoch 24/150\n",
      "135/135 - 5s - loss: 0.1692 - categorical_accuracy: 0.9833 - val_loss: 0.8087 - val_categorical_accuracy: 0.8730\n",
      "Epoch 25/150\n",
      "135/135 - 5s - loss: 0.2073 - categorical_accuracy: 0.9753 - val_loss: 0.7969 - val_categorical_accuracy: 0.8734\n",
      "Epoch 26/150\n",
      "135/135 - 5s - loss: 0.1653 - categorical_accuracy: 0.9834 - val_loss: 0.8004 - val_categorical_accuracy: 0.8760\n",
      "Epoch 27/150\n",
      "135/135 - 5s - loss: 0.1578 - categorical_accuracy: 0.9858 - val_loss: 0.8157 - val_categorical_accuracy: 0.8725\n",
      "Epoch 28/150\n",
      "135/135 - 6s - loss: 0.1607 - categorical_accuracy: 0.9825 - val_loss: 0.8263 - val_categorical_accuracy: 0.8758\n",
      "Epoch 29/150\n",
      "135/135 - 5s - loss: 0.1483 - categorical_accuracy: 0.9858 - val_loss: 0.8712 - val_categorical_accuracy: 0.8739\n",
      "Epoch 30/150\n",
      "135/135 - 5s - loss: 0.1461 - categorical_accuracy: 0.9862 - val_loss: 0.8871 - val_categorical_accuracy: 0.8646\n",
      "Epoch 31/150\n",
      "135/135 - 5s - loss: 0.1515 - categorical_accuracy: 0.9844 - val_loss: 0.8504 - val_categorical_accuracy: 0.8746\n",
      "Epoch 32/150\n",
      "135/135 - 4s - loss: 0.1445 - categorical_accuracy: 0.9868 - val_loss: 0.8799 - val_categorical_accuracy: 0.8685\n",
      "Epoch 33/150\n",
      "135/135 - 5s - loss: 0.1436 - categorical_accuracy: 0.9852 - val_loss: 0.8889 - val_categorical_accuracy: 0.8587\n"
     ]
    },
    {
     "data": {
      "image/png": "[encoded data removed]",
      "text/plain": [
       "<Figure size 432x288 with 1 Axes>"
      ]
     },
     "metadata": {
      "needs_background": "light"
     },
     "output_type": "display_data"
    },
    {
     "data": {
      "image/png": "[encoded data removed]",
      "text/plain": [
       "<Figure size 432x288 with 1 Axes>"
      ]
     },
     "metadata": {
      "needs_background": "light"
     },
     "output_type": "display_data"
    }
   ],
   "source": [
    "model = keras.Sequential([\n",
    "        Embedding(15000, 128, input_length=20),\n",
    "        LSTM(48, return_sequences=True),\n",
    "        LSTM(48, return_sequences=True),\n",
    "        LSTM(48),\n",
    "        Dense(64, kernel_regularizer=keras.regularizers.l2(0.01)),\n",
    "        Dropout(0.40),\n",
    "        Dense(32, kernel_regularizer=keras.regularizers.l2(0.01)),\n",
    "        Dropout(0.40),\n",
    "        Dense(28, activation=keras.activations.softmax)\n",
    "    ])\n",
    "\n",
    "all_logs = []\n",
    "\n",
    "logs = neural_network(batch_size)\n",
    "\n",
    "logs.history['name'] = \"LSTM - \" + str(batch_size)\n",
    "\n",
    "all_logs.append(logs)\n",
    "\n",
    "plot_log(all_logs)"
   ]
  },
  {
   "cell_type": "markdown",
   "metadata": {},
   "source": [
    "-> abaisser le dropout ?"
   ]
  },
  {
   "cell_type": "code",
   "execution_count": 12,
   "metadata": {},
   "outputs": [
    {
     "name": "stdout",
     "output_type": "stream",
     "text": [
      "Model: \"sequential_3\"\n",
      "_________________________________________________________________\n",
      "Layer (type)                 Output Shape              Param #   \n",
      "=================================================================\n",
      "embedding_3 (Embedding)      (None, 20, 128)           1920000   \n",
      "_________________________________________________________________\n",
      "lstm_9 (LSTM)                (None, 20, 48)            33984     \n",
      "_________________________________________________________________\n",
      "lstm_10 (LSTM)               (None, 20, 48)            18624     \n",
      "_________________________________________________________________\n",
      "lstm_11 (LSTM)               (None, 48)                18624     \n",
      "_________________________________________________________________\n",
      "dense_9 (Dense)              (None, 64)                3136      \n",
      "_________________________________________________________________\n",
      "dropout_4 (Dropout)          (None, 64)                0         \n",
      "_________________________________________________________________\n",
      "dense_10 (Dense)             (None, 32)                2080      \n",
      "_________________________________________________________________\n",
      "dropout_5 (Dropout)          (None, 32)                0         \n",
      "_________________________________________________________________\n",
      "dense_11 (Dense)             (None, 28)                924       \n",
      "=================================================================\n",
      "Total params: 1,997,372\n",
      "Trainable params: 1,997,372\n",
      "Non-trainable params: 0\n",
      "_________________________________________________________________\n",
      "Epoch 1/150\n",
      "135/135 - 6s - loss: 2.7455 - categorical_accuracy: 0.3230 - val_loss: 1.7926 - val_categorical_accuracy: 0.5781\n",
      "Epoch 2/150\n",
      "135/135 - 5s - loss: 1.3593 - categorical_accuracy: 0.6894 - val_loss: 0.9667 - val_categorical_accuracy: 0.8007\n",
      "Epoch 3/150\n",
      "135/135 - 5s - loss: 0.7682 - categorical_accuracy: 0.8473 - val_loss: 0.7429 - val_categorical_accuracy: 0.8503\n",
      "Epoch 4/150\n",
      "135/135 - 5s - loss: 0.5541 - categorical_accuracy: 0.9020 - val_loss: 0.6656 - val_categorical_accuracy: 0.8552\n",
      "Epoch 5/150\n",
      "135/135 - 6s - loss: 0.4561 - categorical_accuracy: 0.9176 - val_loss: 0.6712 - val_categorical_accuracy: 0.8592\n",
      "Epoch 6/150\n",
      "135/135 - 5s - loss: 0.3882 - categorical_accuracy: 0.9298 - val_loss: 0.6952 - val_categorical_accuracy: 0.8520\n",
      "Epoch 7/150\n",
      "135/135 - 5s - loss: 0.3489 - categorical_accuracy: 0.9404 - val_loss: 0.6268 - val_categorical_accuracy: 0.8660\n",
      "Epoch 8/150\n",
      "135/135 - 5s - loss: 0.3257 - categorical_accuracy: 0.9427 - val_loss: 0.6390 - val_categorical_accuracy: 0.8744\n",
      "Epoch 9/150\n",
      "135/135 - 5s - loss: 0.2959 - categorical_accuracy: 0.9531 - val_loss: 0.6533 - val_categorical_accuracy: 0.8779\n",
      "Epoch 10/150\n",
      "135/135 - 5s - loss: 0.2712 - categorical_accuracy: 0.9600 - val_loss: 0.6983 - val_categorical_accuracy: 0.8664\n",
      "Epoch 11/150\n",
      "135/135 - 5s - loss: 0.2458 - categorical_accuracy: 0.9668 - val_loss: 0.6542 - val_categorical_accuracy: 0.8723\n",
      "Epoch 12/150\n",
      "135/135 - 5s - loss: 0.2390 - categorical_accuracy: 0.9661 - val_loss: 0.6906 - val_categorical_accuracy: 0.8748\n",
      "Epoch 13/150\n",
      "135/135 - 5s - loss: 0.2206 - categorical_accuracy: 0.9703 - val_loss: 0.6725 - val_categorical_accuracy: 0.8828\n",
      "Epoch 14/150\n",
      "135/135 - 4s - loss: 0.2110 - categorical_accuracy: 0.9715 - val_loss: 0.7035 - val_categorical_accuracy: 0.8741\n",
      "Epoch 15/150\n",
      "135/135 - 5s - loss: 0.1986 - categorical_accuracy: 0.9740 - val_loss: 0.7511 - val_categorical_accuracy: 0.8769\n",
      "Epoch 16/150\n",
      "135/135 - 5s - loss: 0.1940 - categorical_accuracy: 0.9744 - val_loss: 0.6867 - val_categorical_accuracy: 0.8767\n",
      "Epoch 17/150\n",
      "135/135 - 4s - loss: 0.1870 - categorical_accuracy: 0.9739 - val_loss: 0.7444 - val_categorical_accuracy: 0.8725\n",
      "Epoch 18/150\n",
      "135/135 - 4s - loss: 0.1773 - categorical_accuracy: 0.9761 - val_loss: 0.7659 - val_categorical_accuracy: 0.8753\n",
      "Epoch 19/150\n",
      "135/135 - 5s - loss: 0.1713 - categorical_accuracy: 0.9770 - val_loss: 0.7110 - val_categorical_accuracy: 0.8718\n",
      "Epoch 20/150\n",
      "135/135 - 5s - loss: 0.1731 - categorical_accuracy: 0.9759 - val_loss: 0.7586 - val_categorical_accuracy: 0.8760\n",
      "Epoch 21/150\n",
      "135/135 - 5s - loss: 0.1679 - categorical_accuracy: 0.9771 - val_loss: 0.7740 - val_categorical_accuracy: 0.8767\n",
      "Epoch 22/150\n",
      "135/135 - 5s - loss: 0.1703 - categorical_accuracy: 0.9764 - val_loss: 0.7202 - val_categorical_accuracy: 0.8765\n",
      "Epoch 23/150\n",
      "135/135 - 5s - loss: 0.1615 - categorical_accuracy: 0.9795 - val_loss: 0.7369 - val_categorical_accuracy: 0.8825\n",
      "Epoch 24/150\n",
      "135/135 - 5s - loss: 0.1575 - categorical_accuracy: 0.9801 - val_loss: 0.7582 - val_categorical_accuracy: 0.8776\n",
      "Epoch 25/150\n",
      "135/135 - 5s - loss: 0.1516 - categorical_accuracy: 0.9810 - val_loss: 0.7680 - val_categorical_accuracy: 0.8828\n",
      "Epoch 26/150\n",
      "135/135 - 5s - loss: 0.1459 - categorical_accuracy: 0.9826 - val_loss: 0.7863 - val_categorical_accuracy: 0.8811\n",
      "Epoch 27/150\n",
      "135/135 - 5s - loss: 0.1445 - categorical_accuracy: 0.9819 - val_loss: 0.8035 - val_categorical_accuracy: 0.8788\n",
      "Epoch 28/150\n",
      "135/135 - 5s - loss: 0.1424 - categorical_accuracy: 0.9821 - val_loss: 0.7637 - val_categorical_accuracy: 0.8762\n",
      "Epoch 29/150\n",
      "135/135 - 5s - loss: 0.1390 - categorical_accuracy: 0.9823 - val_loss: 0.7804 - val_categorical_accuracy: 0.8818\n",
      "Epoch 30/150\n",
      "135/135 - 4s - loss: 0.1269 - categorical_accuracy: 0.9843 - val_loss: 0.8013 - val_categorical_accuracy: 0.8821\n",
      "Epoch 31/150\n",
      "135/135 - 4s - loss: 0.1355 - categorical_accuracy: 0.9828 - val_loss: 0.7813 - val_categorical_accuracy: 0.8860\n",
      "Epoch 32/150\n",
      "135/135 - 4s - loss: 0.1295 - categorical_accuracy: 0.9843 - val_loss: 0.8157 - val_categorical_accuracy: 0.8732\n"
     ]
    },
    {
     "data": {
      "image/png": "[encoded data removed]",
      "text/plain": [
       "<Figure size 432x288 with 1 Axes>"
      ]
     },
     "metadata": {
      "needs_background": "light"
     },
     "output_type": "display_data"
    },
    {
     "data": {
      "image/png": "[encoded data removed]",
      "text/plain": [
       "<Figure size 432x288 with 1 Axes>"
      ]
     },
     "metadata": {
      "needs_background": "light"
     },
     "output_type": "display_data"
    }
   ],
   "source": [
    "model = keras.Sequential([\n",
    "        Embedding(15000, 128, input_length=20),\n",
    "        LSTM(48, return_sequences=True),\n",
    "        LSTM(48, return_sequences=True),\n",
    "        LSTM(48),\n",
    "        Dense(64, kernel_regularizer=keras.regularizers.l2(0.01)),\n",
    "        Dropout(0.25),\n",
    "        Dense(32, kernel_regularizer=keras.regularizers.l2(0.01)),\n",
    "        Dropout(0.25),\n",
    "        Dense(28, activation=keras.activations.softmax)\n",
    "    ])\n",
    "\n",
    "all_logs = []\n",
    "\n",
    "logs = neural_network(batch_size)\n",
    "\n",
    "logs.history['name'] = \"LSTM - \" + str(batch_size)\n",
    "\n",
    "all_logs.append(logs)\n",
    "\n",
    "plot_log(all_logs)"
   ]
  },
  {
   "cell_type": "markdown",
   "metadata": {},
   "source": [
    "-> dropout seul semble être la meilleure méthode\n",
    "\n",
    "# Les données\n",
    "\n",
    "à quoi ressemblent les données injectées dans le réseau de neurone ?"
   ]
  },
  {
   "cell_type": "code",
   "execution_count": 13,
   "metadata": {},
   "outputs": [],
   "source": [
    "def auto_encoder_sentences(training_data, testing_data):\n",
    "    # 10 mots maximum à garder et remplace les mots inconnus avec le token out-of-value\n",
    "    tokenizer = Tokenizer(num_words=10, oov_token=\"<OOV>\")\n",
    "\n",
    "    # Crée le dictionnaire\n",
    "    tokenizer.fit_on_texts(training_data)\n",
    "    \n",
    "    print(\"Dictionnaire : \")\n",
    "    print(tokenizer.word_index)\n",
    "\n",
    "    # Les mots sont remplacées par leurs numéros associés\n",
    "    sequences_training = tokenizer.texts_to_sequences(training_data)\n",
    "    sequences_testing = tokenizer.texts_to_sequences(testing_data)\n",
    "    \n",
    "    print(\"sequences : \")\n",
    "    print(sequences_training)\n",
    "    print(sequences_testing)\n",
    "\n",
    "    # Ajoute du padding pour que chaque ligne ait la même taille\n",
    "    padded_training = pad_sequences(sequences_training, padding='post', truncating='pre', maxlen=7)\n",
    "    padded_testing = pad_sequences(sequences_testing, padding='post', truncating='pre', maxlen=7)\n",
    "    \n",
    "    print(\"sequences + padding\")\n",
    "    print(padded_training)\n",
    "    print(padded_testing)\n",
    "\n",
    "    return padded_training, padded_testing"
   ]
  },
  {
   "cell_type": "code",
   "execution_count": 14,
   "metadata": {},
   "outputs": [],
   "source": [
    "# exemples de phrases, dans notre cas cela sera les noms des produits\n",
    "sentences_training = {\n",
    "    \"J'ai un chat\",\n",
    "    \"J'ai un chien\",\n",
    "    \"Ton chien est magnifique\"\n",
    "}\n",
    "\n",
    "sentences_testing = {\n",
    "    \"J'ai un lapin, il est magnifique\"\n",
    "}"
   ]
  },
  {
   "cell_type": "code",
   "execution_count": 15,
   "metadata": {},
   "outputs": [
    {
     "name": "stdout",
     "output_type": "stream",
     "text": [
      "Dictionnaire : \n",
      "{'<OOV>': 1, \"j'ai\": 2, 'un': 3, 'chien': 4, 'chat': 5, 'ton': 6, 'est': 7, 'magnifique': 8}\n",
      "sequences : \n",
      "[[2, 3, 5], [6, 4, 7, 8], [2, 3, 4]]\n",
      "[[2, 3, 1, 1, 7, 8]]\n",
      "sequences + padding\n",
      "[[2 3 5 0 0 0 0]\n",
      " [6 4 7 8 0 0 0]\n",
      " [2 3 4 0 0 0 0]]\n",
      "[[2 3 1 1 7 8 0]]\n"
     ]
    },
    {
     "data": {
      "text/plain": [
       "(array([[2, 3, 5, 0, 0, 0, 0],\n",
       "        [6, 4, 7, 8, 0, 0, 0],\n",
       "        [2, 3, 4, 0, 0, 0, 0]]),\n",
       " array([[2, 3, 1, 1, 7, 8, 0]]))"
      ]
     },
     "execution_count": 15,
     "metadata": {},
     "output_type": "execute_result"
    }
   ],
   "source": [
    "auto_encoder_sentences(sentences_training, sentences_testing)"
   ]
  },
  {
   "cell_type": "markdown",
   "metadata": {},
   "source": [
    "Le dictionnaire parcourt toutes les phrases et à chaque fois qu'il en recontre un nouveau, l'ajoute dans son dictionnaire. Ensuite on demande au dictionnaire de remplacer les mots par leurs valeurs associés dans le dictionnaire.\n",
    "\n",
    "Le dictionnaire n'apprenant pas sur les données de test, il peut y avoir des mots inconnus. Ils sont alors remplacés par la valeur 1 qui représente l'absence de valeur connue(OOV : out of value)\n",
    "\n",
    "Les valeurs remplacées par des 0 correspond au padding -> indispensable car les données d'inputs (ici les sentences) doivent tous avoir la même taille.\n",
    "\n",
    "Les exemples pris sont plus simples afin de mieux illustrer comment sont transformées les mots avant d'être injecté dans le réseau de neurones mais normalement on aurait fait le dictionnaire sur les nom des produits (sur données d'entrainement) ce qui donne plus de 10 000 mots différents.\n",
    "\n",
    "Maintenant pour les labels :\n",
    "\n",
    "Dans mon cas, désirant prédire les rayons je les récupère dans un premier temps."
   ]
  },
  {
   "cell_type": "code",
   "execution_count": 16,
   "metadata": {},
   "outputs": [],
   "source": [
    "products = pd.read_csv(\"produits_carrefour_nomenclatures.csv\", sep=';')\n",
    "\n",
    "labels = products['hypDepartmentDesc']"
   ]
  },
  {
   "cell_type": "code",
   "execution_count": 17,
   "metadata": {},
   "outputs": [],
   "source": [
    "def number_to_binary(number, size):\n",
    "    return [0 if i != number else 1 for i in range(size)]\n",
    "\n",
    "\n",
    "def auto_encoder_y(label_name):\n",
    "    possibilities = label_name.unique()\n",
    "    print(\"Tous les rayons possibles : \")\n",
    "    print(possibilities)\n",
    "    size = possibilities.shape[0]\n",
    "\n",
    "    result = []\n",
    "    words = {possibilities[i]: i for i in range(size)}\n",
    "    print(\"\\nDictionnaire : \")\n",
    "    print(words)\n",
    "\n",
    "    for l in label_name:\n",
    "        nb = words[l]\n",
    "        val = number_to_binary(nb, size)\n",
    "        result.append(val)\n",
    "        \n",
    "    print(\"\\n\\nexemple : \")\n",
    "    print(label_name[0])\n",
    "    print(\"\\nAprès sa transformation il passe en numéro : \")\n",
    "    print(words[label_name[0]])\n",
    "    print(\"\\npuis on le transforme en un vecteurs de n dimension (n = nb de rayons) ou il vaut 1 pour son indexe associé 0 sinon\")\n",
    "    print(result[0])\n",
    "    \n",
    "    # return result"
   ]
  },
  {
   "cell_type": "code",
   "execution_count": 18,
   "metadata": {
    "scrolled": true
   },
   "outputs": [
    {
     "name": "stdout",
     "output_type": "stream",
     "text": [
      "Tous les rayons possibles : \n",
      "['EPICERIE' 'BOISSONS' 'P.L.S.' 'PARFUMERIE HYGIENE' 'FRUITS ET LEGUMES'\n",
      " 'DROGUERIE' 'CONFORT DE LA MAISON' nan 'CHARCUT.TRAITEUR' 'POISSONNERIE'\n",
      " 'LINGE DE MAISON' 'BOUCHERIE VOLAILLE' 'BRICOLAGE' 'PAPETERIE'\n",
      " 'JOUET SPORT' 'HOMME' 'FEMME' 'ENFANT' 'ACCESSOIRES' 'LIBRAIRIE'\n",
      " 'PARAPHARMACIE' 'BOULANGERIE/PATISSERIE' 'CAFETERIA ESPACE RESTAURATION'\n",
      " 'PEM' 'JARDIN ET ANIMALERIE' 'RADIOTELEPHONIE' 'MICRO INFORMATIQUE'\n",
      " 'IMAGE ET SON' 'PHOTO COMMUNICATION']\n",
      "\n",
      "Dictionnaire : \n",
      "{'EPICERIE': 0, 'BOISSONS': 1, 'P.L.S.': 2, 'PARFUMERIE HYGIENE': 3, 'FRUITS ET LEGUMES': 4, 'DROGUERIE': 5, 'CONFORT DE LA MAISON': 6, nan: 7, 'CHARCUT.TRAITEUR': 8, 'POISSONNERIE': 9, 'LINGE DE MAISON': 10, 'BOUCHERIE VOLAILLE': 11, 'BRICOLAGE': 12, 'PAPETERIE': 13, 'JOUET SPORT': 14, 'HOMME': 15, 'FEMME': 16, 'ENFANT': 17, 'ACCESSOIRES': 18, 'LIBRAIRIE': 19, 'PARAPHARMACIE': 20, 'BOULANGERIE/PATISSERIE': 21, 'CAFETERIA ESPACE RESTAURATION': 22, 'PEM': 23, 'JARDIN ET ANIMALERIE': 24, 'RADIOTELEPHONIE': 25, 'MICRO INFORMATIQUE': 26, 'IMAGE ET SON': 27, 'PHOTO COMMUNICATION': 28}\n",
      "\n",
      "\n",
      "exemple : \n",
      "EPICERIE\n",
      "\n",
      "Après sa transformation il passe en numéro : \n",
      "0\n",
      "\n",
      "puis on le transforme en un vecteurs de n dimension (n = nb de rayons) ou il vaut 1 pour son indexe associé 0 sinon\n",
      "[1, 0, 0, 0, 0, 0, 0, 0, 0, 0, 0, 0, 0, 0, 0, 0, 0, 0, 0, 0, 0, 0, 0, 0, 0, 0, 0, 0, 0]\n"
     ]
    }
   ],
   "source": [
    "auto_encoder_y(labels)"
   ]
  },
  {
   "cell_type": "code",
   "execution_count": null,
   "metadata": {},
   "outputs": [],
   "source": []
  }
 ],
 "metadata": {
  "kernelspec": {
   "display_name": "Python 3",
   "language": "python",
   "name": "python3"
  },
  "language_info": {
   "codemirror_mode": {
    "name": "ipython",
    "version": 3
   },
   "file_extension": ".py",
   "mimetype": "text/x-python",
   "name": "python",
   "nbconvert_exporter": "python",
   "pygments_lexer": "ipython3",
   "version": "3.7.6"
  }
 },
 "nbformat": 4,
 "nbformat_minor": 4
}
